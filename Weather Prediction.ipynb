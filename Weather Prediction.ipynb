{
 "cells": [
  {
   "cell_type": "code",
   "execution_count": 155,
   "id": "c352d81a",
   "metadata": {},
   "outputs": [],
   "source": [
    "import numpy as np\n",
    "import pandas as pd\n",
    "import matplotlib.pyplot as plt"
   ]
  },
  {
   "cell_type": "code",
   "execution_count": 156,
   "id": "8c0011b6",
   "metadata": {},
   "outputs": [],
   "source": [
    "df=pd.read_csv('weatherHistory.csv')"
   ]
  },
  {
   "cell_type": "code",
   "execution_count": 157,
   "id": "62aca9bc",
   "metadata": {},
   "outputs": [
    {
     "data": {
      "text/html": [
       "<div>\n",
       "<style scoped>\n",
       "    .dataframe tbody tr th:only-of-type {\n",
       "        vertical-align: middle;\n",
       "    }\n",
       "\n",
       "    .dataframe tbody tr th {\n",
       "        vertical-align: top;\n",
       "    }\n",
       "\n",
       "    .dataframe thead th {\n",
       "        text-align: right;\n",
       "    }\n",
       "</style>\n",
       "<table border=\"1\" class=\"dataframe\">\n",
       "  <thead>\n",
       "    <tr style=\"text-align: right;\">\n",
       "      <th></th>\n",
       "      <th>Formatted Date</th>\n",
       "      <th>Summary</th>\n",
       "      <th>Precip Type</th>\n",
       "      <th>Temperature (C)</th>\n",
       "      <th>Apparent Temperature (C)</th>\n",
       "      <th>Humidity</th>\n",
       "      <th>Wind Speed (km/h)</th>\n",
       "      <th>Wind Bearing (degrees)</th>\n",
       "      <th>Visibility (km)</th>\n",
       "      <th>Loud Cover</th>\n",
       "      <th>Pressure (millibars)</th>\n",
       "      <th>Daily Summary</th>\n",
       "    </tr>\n",
       "  </thead>\n",
       "  <tbody>\n",
       "    <tr>\n",
       "      <th>0</th>\n",
       "      <td>2006-04-01 00:00:00.000 +0200</td>\n",
       "      <td>Partly Cloudy</td>\n",
       "      <td>rain</td>\n",
       "      <td>9.472222</td>\n",
       "      <td>7.388889</td>\n",
       "      <td>0.89</td>\n",
       "      <td>14.1197</td>\n",
       "      <td>251.0</td>\n",
       "      <td>15.8263</td>\n",
       "      <td>0.0</td>\n",
       "      <td>1015.13</td>\n",
       "      <td>Partly cloudy throughout the day.</td>\n",
       "    </tr>\n",
       "    <tr>\n",
       "      <th>1</th>\n",
       "      <td>2006-04-01 01:00:00.000 +0200</td>\n",
       "      <td>Partly Cloudy</td>\n",
       "      <td>rain</td>\n",
       "      <td>9.355556</td>\n",
       "      <td>7.227778</td>\n",
       "      <td>0.86</td>\n",
       "      <td>14.2646</td>\n",
       "      <td>259.0</td>\n",
       "      <td>15.8263</td>\n",
       "      <td>0.0</td>\n",
       "      <td>1015.63</td>\n",
       "      <td>Partly cloudy throughout the day.</td>\n",
       "    </tr>\n",
       "    <tr>\n",
       "      <th>2</th>\n",
       "      <td>2006-04-01 02:00:00.000 +0200</td>\n",
       "      <td>Mostly Cloudy</td>\n",
       "      <td>rain</td>\n",
       "      <td>9.377778</td>\n",
       "      <td>9.377778</td>\n",
       "      <td>0.89</td>\n",
       "      <td>3.9284</td>\n",
       "      <td>204.0</td>\n",
       "      <td>14.9569</td>\n",
       "      <td>0.0</td>\n",
       "      <td>1015.94</td>\n",
       "      <td>Partly cloudy throughout the day.</td>\n",
       "    </tr>\n",
       "    <tr>\n",
       "      <th>3</th>\n",
       "      <td>2006-04-01 03:00:00.000 +0200</td>\n",
       "      <td>Partly Cloudy</td>\n",
       "      <td>rain</td>\n",
       "      <td>8.288889</td>\n",
       "      <td>5.944444</td>\n",
       "      <td>0.83</td>\n",
       "      <td>14.1036</td>\n",
       "      <td>269.0</td>\n",
       "      <td>15.8263</td>\n",
       "      <td>0.0</td>\n",
       "      <td>1016.41</td>\n",
       "      <td>Partly cloudy throughout the day.</td>\n",
       "    </tr>\n",
       "    <tr>\n",
       "      <th>4</th>\n",
       "      <td>2006-04-01 04:00:00.000 +0200</td>\n",
       "      <td>Mostly Cloudy</td>\n",
       "      <td>rain</td>\n",
       "      <td>8.755556</td>\n",
       "      <td>6.977778</td>\n",
       "      <td>0.83</td>\n",
       "      <td>11.0446</td>\n",
       "      <td>259.0</td>\n",
       "      <td>15.8263</td>\n",
       "      <td>0.0</td>\n",
       "      <td>1016.51</td>\n",
       "      <td>Partly cloudy throughout the day.</td>\n",
       "    </tr>\n",
       "  </tbody>\n",
       "</table>\n",
       "</div>"
      ],
      "text/plain": [
       "                  Formatted Date        Summary Precip Type  Temperature (C)  \\\n",
       "0  2006-04-01 00:00:00.000 +0200  Partly Cloudy        rain         9.472222   \n",
       "1  2006-04-01 01:00:00.000 +0200  Partly Cloudy        rain         9.355556   \n",
       "2  2006-04-01 02:00:00.000 +0200  Mostly Cloudy        rain         9.377778   \n",
       "3  2006-04-01 03:00:00.000 +0200  Partly Cloudy        rain         8.288889   \n",
       "4  2006-04-01 04:00:00.000 +0200  Mostly Cloudy        rain         8.755556   \n",
       "\n",
       "   Apparent Temperature (C)  Humidity  Wind Speed (km/h)  \\\n",
       "0                  7.388889      0.89            14.1197   \n",
       "1                  7.227778      0.86            14.2646   \n",
       "2                  9.377778      0.89             3.9284   \n",
       "3                  5.944444      0.83            14.1036   \n",
       "4                  6.977778      0.83            11.0446   \n",
       "\n",
       "   Wind Bearing (degrees)  Visibility (km)  Loud Cover  Pressure (millibars)  \\\n",
       "0                   251.0          15.8263         0.0               1015.13   \n",
       "1                   259.0          15.8263         0.0               1015.63   \n",
       "2                   204.0          14.9569         0.0               1015.94   \n",
       "3                   269.0          15.8263         0.0               1016.41   \n",
       "4                   259.0          15.8263         0.0               1016.51   \n",
       "\n",
       "                       Daily Summary  \n",
       "0  Partly cloudy throughout the day.  \n",
       "1  Partly cloudy throughout the day.  \n",
       "2  Partly cloudy throughout the day.  \n",
       "3  Partly cloudy throughout the day.  \n",
       "4  Partly cloudy throughout the day.  "
      ]
     },
     "execution_count": 157,
     "metadata": {},
     "output_type": "execute_result"
    }
   ],
   "source": [
    "df.head()"
   ]
  },
  {
   "cell_type": "code",
   "execution_count": 97,
   "id": "06d9d040",
   "metadata": {},
   "outputs": [
    {
     "data": {
      "text/plain": [
       "(96453, 12)"
      ]
     },
     "execution_count": 97,
     "metadata": {},
     "output_type": "execute_result"
    }
   ],
   "source": [
    "df.shape"
   ]
  },
  {
   "cell_type": "code",
   "execution_count": 98,
   "id": "30d1e034",
   "metadata": {},
   "outputs": [
    {
     "data": {
      "image/png": "[encoded data removed]",
      "text/plain": [
       "<Figure size 640x480 with 1 Axes>"
      ]
     },
     "metadata": {},
     "output_type": "display_data"
    }
   ],
   "source": [
    "# plt.boxplot(df['Pressure (millibars)'])\n",
    "# plt.show()"
   ]
  },
  {
   "cell_type": "code",
   "execution_count": 99,
   "id": "355c07bb",
   "metadata": {},
   "outputs": [
    {
     "data": {
      "text/plain": [
       "(96453, 10)"
      ]
     },
     "execution_count": 99,
     "metadata": {},
     "output_type": "execute_result"
    }
   ],
   "source": [
    "df_new=df.drop(columns=['Formatted Date','Loud Cover'])\n",
    "df_new.shape"
   ]
  },
  {
   "cell_type": "code",
   "execution_count": 100,
   "id": "d49759a2",
   "metadata": {},
   "outputs": [
    {
     "data": {
      "text/plain": [
       "(96453, 12)"
      ]
     },
     "execution_count": 100,
     "metadata": {},
     "output_type": "execute_result"
    }
   ],
   "source": [
    "df.shape"
   ]
  },
  {
   "cell_type": "code",
   "execution_count": 101,
   "id": "cfc5f0c5",
   "metadata": {},
   "outputs": [
    {
     "name": "stdout",
     "output_type": "stream",
     "text": [
      "<class 'pandas.core.frame.DataFrame'>\n",
      "RangeIndex: 96453 entries, 0 to 96452\n",
      "Data columns (total 10 columns):\n",
      " #   Column                    Non-Null Count  Dtype  \n",
      "---  ------                    --------------  -----  \n",
      " 0   Summary                   96453 non-null  object \n",
      " 1   Precip Type               95936 non-null  object \n",
      " 2   Temperature (C)           96453 non-null  float64\n",
      " 3   Apparent Temperature (C)  96453 non-null  float64\n",
      " 4   Humidity                  96453 non-null  float64\n",
      " 5   Wind Speed (km/h)         96453 non-null  float64\n",
      " 6   Wind Bearing (degrees)    96453 non-null  float64\n",
      " 7   Visibility (km)           96453 non-null  float64\n",
      " 8   Pressure (millibars)      96453 non-null  float64\n",
      " 9   Daily Summary             96453 non-null  object \n",
      "dtypes: float64(7), object(3)\n",
      "memory usage: 7.4+ MB\n"
     ]
    }
   ],
   "source": [
    "df_new.info()"
   ]
  },
  {
   "cell_type": "code",
   "execution_count": 102,
   "id": "c6f3f000",
   "metadata": {},
   "outputs": [
    {
     "data": {
      "text/html": [
       "<div>\n",
       "<style scoped>\n",
       "    .dataframe tbody tr th:only-of-type {\n",
       "        vertical-align: middle;\n",
       "    }\n",
       "\n",
       "    .dataframe tbody tr th {\n",
       "        vertical-align: top;\n",
       "    }\n",
       "\n",
       "    .dataframe thead th {\n",
       "        text-align: right;\n",
       "    }\n",
       "</style>\n",
       "<table border=\"1\" class=\"dataframe\">\n",
       "  <thead>\n",
       "    <tr style=\"text-align: right;\">\n",
       "      <th></th>\n",
       "      <th>Temperature (C)</th>\n",
       "      <th>Apparent Temperature (C)</th>\n",
       "      <th>Humidity</th>\n",
       "      <th>Wind Speed (km/h)</th>\n",
       "      <th>Wind Bearing (degrees)</th>\n",
       "      <th>Visibility (km)</th>\n",
       "      <th>Pressure (millibars)</th>\n",
       "    </tr>\n",
       "  </thead>\n",
       "  <tbody>\n",
       "    <tr>\n",
       "      <th>count</th>\n",
       "      <td>96453.000000</td>\n",
       "      <td>96453.000000</td>\n",
       "      <td>96453.000000</td>\n",
       "      <td>96453.000000</td>\n",
       "      <td>96453.000000</td>\n",
       "      <td>96453.000000</td>\n",
       "      <td>96453.000000</td>\n",
       "    </tr>\n",
       "    <tr>\n",
       "      <th>mean</th>\n",
       "      <td>11.932678</td>\n",
       "      <td>10.855029</td>\n",
       "      <td>0.734899</td>\n",
       "      <td>10.810640</td>\n",
       "      <td>187.509232</td>\n",
       "      <td>10.347325</td>\n",
       "      <td>1003.235956</td>\n",
       "    </tr>\n",
       "    <tr>\n",
       "      <th>std</th>\n",
       "      <td>9.551546</td>\n",
       "      <td>10.696847</td>\n",
       "      <td>0.195473</td>\n",
       "      <td>6.913571</td>\n",
       "      <td>107.383428</td>\n",
       "      <td>4.192123</td>\n",
       "      <td>116.969906</td>\n",
       "    </tr>\n",
       "    <tr>\n",
       "      <th>min</th>\n",
       "      <td>-21.822222</td>\n",
       "      <td>-27.716667</td>\n",
       "      <td>0.000000</td>\n",
       "      <td>0.000000</td>\n",
       "      <td>0.000000</td>\n",
       "      <td>0.000000</td>\n",
       "      <td>0.000000</td>\n",
       "    </tr>\n",
       "    <tr>\n",
       "      <th>25%</th>\n",
       "      <td>4.688889</td>\n",
       "      <td>2.311111</td>\n",
       "      <td>0.600000</td>\n",
       "      <td>5.828200</td>\n",
       "      <td>116.000000</td>\n",
       "      <td>8.339800</td>\n",
       "      <td>1011.900000</td>\n",
       "    </tr>\n",
       "    <tr>\n",
       "      <th>50%</th>\n",
       "      <td>12.000000</td>\n",
       "      <td>12.000000</td>\n",
       "      <td>0.780000</td>\n",
       "      <td>9.965900</td>\n",
       "      <td>180.000000</td>\n",
       "      <td>10.046400</td>\n",
       "      <td>1016.450000</td>\n",
       "    </tr>\n",
       "    <tr>\n",
       "      <th>75%</th>\n",
       "      <td>18.838889</td>\n",
       "      <td>18.838889</td>\n",
       "      <td>0.890000</td>\n",
       "      <td>14.135800</td>\n",
       "      <td>290.000000</td>\n",
       "      <td>14.812000</td>\n",
       "      <td>1021.090000</td>\n",
       "    </tr>\n",
       "    <tr>\n",
       "      <th>max</th>\n",
       "      <td>39.905556</td>\n",
       "      <td>39.344444</td>\n",
       "      <td>1.000000</td>\n",
       "      <td>63.852600</td>\n",
       "      <td>359.000000</td>\n",
       "      <td>16.100000</td>\n",
       "      <td>1046.380000</td>\n",
       "    </tr>\n",
       "  </tbody>\n",
       "</table>\n",
       "</div>"
      ],
      "text/plain": [
       "       Temperature (C)  Apparent Temperature (C)      Humidity  \\\n",
       "count     96453.000000              96453.000000  96453.000000   \n",
       "mean         11.932678                 10.855029      0.734899   \n",
       "std           9.551546                 10.696847      0.195473   \n",
       "min         -21.822222                -27.716667      0.000000   \n",
       "25%           4.688889                  2.311111      0.600000   \n",
       "50%          12.000000                 12.000000      0.780000   \n",
       "75%          18.838889                 18.838889      0.890000   \n",
       "max          39.905556                 39.344444      1.000000   \n",
       "\n",
       "       Wind Speed (km/h)  Wind Bearing (degrees)  Visibility (km)  \\\n",
       "count       96453.000000            96453.000000     96453.000000   \n",
       "mean           10.810640              187.509232        10.347325   \n",
       "std             6.913571              107.383428         4.192123   \n",
       "min             0.000000                0.000000         0.000000   \n",
       "25%             5.828200              116.000000         8.339800   \n",
       "50%             9.965900              180.000000        10.046400   \n",
       "75%            14.135800              290.000000        14.812000   \n",
       "max            63.852600              359.000000        16.100000   \n",
       "\n",
       "       Pressure (millibars)  \n",
       "count          96453.000000  \n",
       "mean            1003.235956  \n",
       "std              116.969906  \n",
       "min                0.000000  \n",
       "25%             1011.900000  \n",
       "50%             1016.450000  \n",
       "75%             1021.090000  \n",
       "max             1046.380000  "
      ]
     },
     "execution_count": 102,
     "metadata": {},
     "output_type": "execute_result"
    }
   ],
   "source": [
    "df_new.describe()"
   ]
  },
  {
   "cell_type": "code",
   "execution_count": 103,
   "id": "4992ece6",
   "metadata": {},
   "outputs": [],
   "source": [
    "# df_new['Loud Cover'].unique()"
   ]
  },
  {
   "cell_type": "code",
   "execution_count": 104,
   "id": "9428987a",
   "metadata": {},
   "outputs": [
    {
     "data": {
      "image/png": "[encoded data removed]",
      "text/plain": [
       "<Figure size 640x480 with 1 Axes>"
      ]
     },
     "metadata": {},
     "output_type": "display_data"
    }
   ],
   "source": [
    "plt.scatter(df_new['Temperature (C)'],df_new['Apparent Temperature (C)'])\n",
    "plt.show()"
   ]
  },
  {
   "cell_type": "markdown",
   "id": "640b5aa6",
   "metadata": {},
   "source": [
    "### After plotting every feature with label I came to conclusion that the Apparent Temperature(label) depends linearly only on Temperature(feature)."
   ]
  },
  {
   "cell_type": "code",
   "execution_count": 105,
   "id": "b7ad0498",
   "metadata": {},
   "outputs": [],
   "source": [
    "x=df_new['Temperature (C)']\n",
    "y=df_new['Apparent Temperature (C)']"
   ]
  },
  {
   "cell_type": "code",
   "execution_count": 106,
   "id": "55329501",
   "metadata": {},
   "outputs": [
    {
     "data": {
      "text/plain": [
       "(96453,)"
      ]
     },
     "execution_count": 106,
     "metadata": {},
     "output_type": "execute_result"
    }
   ],
   "source": [
    "x.shape"
   ]
  },
  {
   "cell_type": "code",
   "execution_count": 107,
   "id": "2434c45e",
   "metadata": {},
   "outputs": [
    {
     "data": {
      "text/plain": [
       "(96453,)"
      ]
     },
     "execution_count": 107,
     "metadata": {},
     "output_type": "execute_result"
    }
   ],
   "source": [
    "y.shape"
   ]
  },
  {
   "cell_type": "code",
   "execution_count": 108,
   "id": "44345b9c",
   "metadata": {},
   "outputs": [],
   "source": [
    "# x="
   ]
  },
  {
   "cell_type": "code",
   "execution_count": 109,
   "id": "3a46c2c6",
   "metadata": {},
   "outputs": [],
   "source": [
    "from sklearn.model_selection import train_test_split\n"
   ]
  },
  {
   "cell_type": "code",
   "execution_count": 110,
   "id": "13cb7493",
   "metadata": {},
   "outputs": [],
   "source": [
    "x_train,x_test,y_train,y_test=train_test_split(x,y,test_size=0.2,random_state=0)"
   ]
  },
  {
   "cell_type": "code",
   "execution_count": 112,
   "id": "ce6b8280",
   "metadata": {},
   "outputs": [
    {
     "data": {
      "text/plain": [
       "(77162, 1)"
      ]
     },
     "execution_count": 112,
     "metadata": {},
     "output_type": "execute_result"
    }
   ],
   "source": [
    "# x_train.ndim\n",
    "x_train=x_train.values.reshape(-1,1)\n",
    "# x_train.shape\n",
    "x_train.shape"
   ]
  },
  {
   "cell_type": "code",
   "execution_count": 114,
   "id": "0fa293c5",
   "metadata": {},
   "outputs": [
    {
     "data": {
      "text/plain": [
       "(77162, 1)"
      ]
     },
     "execution_count": 114,
     "metadata": {},
     "output_type": "execute_result"
    }
   ],
   "source": [
    "# y_train.ndim\n",
    "y_train=y_train.values.reshape(-1,1)\n",
    "y_train.shape"
   ]
  },
  {
   "cell_type": "code",
   "execution_count": 121,
   "id": "70869525",
   "metadata": {},
   "outputs": [
    {
     "data": {
      "text/plain": [
       "(19291, 1)"
      ]
     },
     "execution_count": 121,
     "metadata": {},
     "output_type": "execute_result"
    }
   ],
   "source": [
    "x_test=x_test.reshape(-1,1)\n",
    "x_test.shape"
   ]
  },
  {
   "cell_type": "code",
   "execution_count": 122,
   "id": "928f7185",
   "metadata": {},
   "outputs": [
    {
     "data": {
      "text/plain": [
       "(19291,)"
      ]
     },
     "execution_count": 122,
     "metadata": {},
     "output_type": "execute_result"
    }
   ],
   "source": [
    "y_test.shape"
   ]
  },
  {
   "cell_type": "markdown",
   "id": "d4337aa5",
   "metadata": {},
   "source": [
    "### Applying Linear Regression"
   ]
  },
  {
   "cell_type": "code",
   "execution_count": 123,
   "id": "0ec0d420",
   "metadata": {},
   "outputs": [],
   "source": [
    "from sklearn.linear_model import LinearRegression\n"
   ]
  },
  {
   "cell_type": "code",
   "execution_count": 124,
   "id": "1e86aa31",
   "metadata": {},
   "outputs": [],
   "source": [
    "lr=LinearRegression()"
   ]
  },
  {
   "cell_type": "code",
   "execution_count": 125,
   "id": "5bce851c",
   "metadata": {},
   "outputs": [
    {
     "data": {
      "text/plain": [
       "LinearRegression()"
      ]
     },
     "execution_count": 125,
     "metadata": {},
     "output_type": "execute_result"
    }
   ],
   "source": [
    "lr.fit(x_train, y_train)"
   ]
  },
  {
   "cell_type": "code",
   "execution_count": 126,
   "id": "bef0aacd",
   "metadata": {},
   "outputs": [],
   "source": [
    "y_pred=lr.predict(x_test)"
   ]
  },
  {
   "cell_type": "code",
   "execution_count": 127,
   "id": "92cec1f3",
   "metadata": {},
   "outputs": [
    {
     "data": {
      "text/plain": [
       "(19291, 1)"
      ]
     },
     "execution_count": 127,
     "metadata": {},
     "output_type": "execute_result"
    }
   ],
   "source": [
    "y_pred.shape"
   ]
  },
  {
   "cell_type": "code",
   "execution_count": 128,
   "id": "6c706953",
   "metadata": {},
   "outputs": [],
   "source": [
    "# pred=model.predict(xtest)\n",
    "data=list(zip(y_test,y_pred))"
   ]
  },
  {
   "cell_type": "code",
   "execution_count": 129,
   "id": "6a7f1444",
   "metadata": {},
   "outputs": [
    {
     "data": {
      "text/html": [
       "<div>\n",
       "<style scoped>\n",
       "    .dataframe tbody tr th:only-of-type {\n",
       "        vertical-align: middle;\n",
       "    }\n",
       "\n",
       "    .dataframe tbody tr th {\n",
       "        vertical-align: top;\n",
       "    }\n",
       "\n",
       "    .dataframe thead th {\n",
       "        text-align: right;\n",
       "    }\n",
       "</style>\n",
       "<table border=\"1\" class=\"dataframe\">\n",
       "  <thead>\n",
       "    <tr style=\"text-align: right;\">\n",
       "      <th></th>\n",
       "      <th>Actual</th>\n",
       "      <th>Predicted</th>\n",
       "    </tr>\n",
       "  </thead>\n",
       "  <tbody>\n",
       "    <tr>\n",
       "      <th>0</th>\n",
       "      <td>14.422222</td>\n",
       "      <td>[13.62090695930991]</td>\n",
       "    </tr>\n",
       "    <tr>\n",
       "      <th>1</th>\n",
       "      <td>12.155556</td>\n",
       "      <td>[11.10044105119797]</td>\n",
       "    </tr>\n",
       "    <tr>\n",
       "      <th>2</th>\n",
       "      <td>23.961111</td>\n",
       "      <td>[24.22786765594765]</td>\n",
       "    </tr>\n",
       "    <tr>\n",
       "      <th>3</th>\n",
       "      <td>15.000000</td>\n",
       "      <td>[14.263378661377658]</td>\n",
       "    </tr>\n",
       "    <tr>\n",
       "      <th>4</th>\n",
       "      <td>12.800000</td>\n",
       "      <td>[11.817044103504305]</td>\n",
       "    </tr>\n",
       "    <tr>\n",
       "      <th>...</th>\n",
       "      <td>...</td>\n",
       "      <td>...</td>\n",
       "    </tr>\n",
       "    <tr>\n",
       "      <th>19286</th>\n",
       "      <td>28.255556</td>\n",
       "      <td>[29.707409961083172]</td>\n",
       "    </tr>\n",
       "    <tr>\n",
       "      <th>19287</th>\n",
       "      <td>17.216667</td>\n",
       "      <td>[16.728246056810658]</td>\n",
       "    </tr>\n",
       "    <tr>\n",
       "      <th>19288</th>\n",
       "      <td>-1.000000</td>\n",
       "      <td>[-3.5281453958830946]</td>\n",
       "    </tr>\n",
       "    <tr>\n",
       "      <th>19289</th>\n",
       "      <td>7.327778</td>\n",
       "      <td>[5.732095771420331]</td>\n",
       "    </tr>\n",
       "    <tr>\n",
       "      <th>19290</th>\n",
       "      <td>16.061111</td>\n",
       "      <td>[15.443302652675158]</td>\n",
       "    </tr>\n",
       "  </tbody>\n",
       "</table>\n",
       "<p>19291 rows × 2 columns</p>\n",
       "</div>"
      ],
      "text/plain": [
       "          Actual              Predicted\n",
       "0      14.422222    [13.62090695930991]\n",
       "1      12.155556    [11.10044105119797]\n",
       "2      23.961111    [24.22786765594765]\n",
       "3      15.000000   [14.263378661377658]\n",
       "4      12.800000   [11.817044103504305]\n",
       "...          ...                    ...\n",
       "19286  28.255556   [29.707409961083172]\n",
       "19287  17.216667   [16.728246056810658]\n",
       "19288  -1.000000  [-3.5281453958830946]\n",
       "19289   7.327778    [5.732095771420331]\n",
       "19290  16.061111   [15.443302652675158]\n",
       "\n",
       "[19291 rows x 2 columns]"
      ]
     },
     "execution_count": 129,
     "metadata": {},
     "output_type": "execute_result"
    }
   ],
   "source": [
    "comptab=pd.DataFrame(data,columns=['Actual','Predicted'])\n",
    "comptab"
   ]
  },
  {
   "cell_type": "code",
   "execution_count": 131,
   "id": "e7049a4e",
   "metadata": {},
   "outputs": [
    {
     "data": {
      "image/png": "[encoded data removed]",
      "text/plain": [
       "<Figure size 640x480 with 1 Axes>"
      ]
     },
     "metadata": {},
     "output_type": "display_data"
    }
   ],
   "source": [
    "plt.scatter(x_test,y_pred)\n",
    "plt.show()"
   ]
  },
  {
   "cell_type": "code",
   "execution_count": 140,
   "id": "6a7bf90e",
   "metadata": {},
   "outputs": [
    {
     "data": {
      "image/png": "[encoded data removed]",
      "text/plain": [
       "<Figure size 640x480 with 1 Axes>"
      ]
     },
     "metadata": {},
     "output_type": "display_data"
    }
   ],
   "source": [
    "plt.scatter(x_train,y_train,color='red')\n",
    "plt.scatter(x_test,y_pred,color='blue')\n",
    "# plt.scatter(x_test,y_test)\n",
    "plt.show()"
   ]
  },
  {
   "cell_type": "markdown",
   "id": "6b259e11",
   "metadata": {},
   "source": [
    "### Applying Performance Metrics"
   ]
  },
  {
   "cell_type": "code",
   "execution_count": 144,
   "id": "1dd73afb",
   "metadata": {},
   "outputs": [],
   "source": [
    "from sklearn.metrics import mean_squared_error,mean_absolute_error"
   ]
  },
  {
   "cell_type": "code",
   "execution_count": 145,
   "id": "7c786d21",
   "metadata": {},
   "outputs": [
    {
     "data": {
      "text/plain": [
       "1.6820729326083674"
      ]
     },
     "execution_count": 145,
     "metadata": {},
     "output_type": "execute_result"
    }
   ],
   "source": [
    "mean_squared_error(y_test,y_pred)"
   ]
  },
  {
   "cell_type": "code",
   "execution_count": 146,
   "id": "9ba65873",
   "metadata": {},
   "outputs": [
    {
     "data": {
      "text/plain": [
       "0.9946153181403559"
      ]
     },
     "execution_count": 146,
     "metadata": {},
     "output_type": "execute_result"
    }
   ],
   "source": [
    "mean_absolute_error(y_test,y_pred)"
   ]
  },
  {
   "cell_type": "markdown",
   "id": "9b8b29c8",
   "metadata": {},
   "source": [
    "# Removing Outliers"
   ]
  },
  {
   "cell_type": "markdown",
   "id": "4efdbbde",
   "metadata": {},
   "source": [
    "### As in previous model we created model without removing Outliers.\n",
    "### So in this following Model we try to remove all the outliers from the feature so that our Linear Regression Model Could predict well i.e., to increade accuracy "
   ]
  },
  {
   "cell_type": "code",
   "execution_count": 151,
   "id": "b314b378",
   "metadata": {},
   "outputs": [
    {
     "data": {
      "image/png": "[encoded data removed]",
      "text/plain": [
       "<Figure size 640x480 with 1 Axes>"
      ]
     },
     "metadata": {},
     "output_type": "display_data"
    }
   ],
   "source": [
    "plt.boxplot(df['Temperature (C)'])\n",
    "plt.show()"
   ]
  },
  {
   "cell_type": "code",
   "execution_count": null,
   "id": "566ba601",
   "metadata": {},
   "outputs": [],
   "source": [
    "# dfnew=df.drop(columns=[''])"
   ]
  },
  {
   "cell_type": "code",
   "execution_count": 152,
   "id": "11944e54",
   "metadata": {},
   "outputs": [
    {
     "name": "stdout",
     "output_type": "stream",
     "text": [
      "4.688888888888887\n",
      "18.83888888888889\n",
      "14.150000000000002\n"
     ]
    }
   ],
   "source": [
    "from scipy.stats import iqr\n",
    "# sns.boxplot(df['price'])\n",
    "q1=df['Temperature (C)'].quantile(0.25)\n",
    "q3=df['Temperature (C)'].quantile(0.75)\n",
    "inter_qr=iqr(df['Temperature (C)'])\n",
    "print(q1)\n",
    "print(q3)\n",
    "print(inter_qr)"
   ]
  },
  {
   "cell_type": "code",
   "execution_count": 161,
   "id": "792efe6d",
   "metadata": {},
   "outputs": [
    {
     "data": {
      "text/html": [
       "<div>\n",
       "<style scoped>\n",
       "    .dataframe tbody tr th:only-of-type {\n",
       "        vertical-align: middle;\n",
       "    }\n",
       "\n",
       "    .dataframe tbody tr th {\n",
       "        vertical-align: top;\n",
       "    }\n",
       "\n",
       "    .dataframe thead th {\n",
       "        text-align: right;\n",
       "    }\n",
       "</style>\n",
       "<table border=\"1\" class=\"dataframe\">\n",
       "  <thead>\n",
       "    <tr style=\"text-align: right;\">\n",
       "      <th></th>\n",
       "      <th>Summary</th>\n",
       "      <th>Precip Type</th>\n",
       "      <th>Temperature (C)</th>\n",
       "      <th>Apparent Temperature (C)</th>\n",
       "      <th>Humidity</th>\n",
       "      <th>Wind Speed (km/h)</th>\n",
       "      <th>Wind Bearing (degrees)</th>\n",
       "      <th>Visibility (km)</th>\n",
       "      <th>Pressure (millibars)</th>\n",
       "      <th>Daily Summary</th>\n",
       "      <th>Outliers</th>\n",
       "    </tr>\n",
       "  </thead>\n",
       "  <tbody>\n",
       "    <tr>\n",
       "      <th>0</th>\n",
       "      <td>Partly Cloudy</td>\n",
       "      <td>rain</td>\n",
       "      <td>9.472222</td>\n",
       "      <td>7.388889</td>\n",
       "      <td>0.89</td>\n",
       "      <td>14.1197</td>\n",
       "      <td>251.0</td>\n",
       "      <td>15.8263</td>\n",
       "      <td>1015.13</td>\n",
       "      <td>Partly cloudy throughout the day.</td>\n",
       "      <td>0</td>\n",
       "    </tr>\n",
       "    <tr>\n",
       "      <th>1</th>\n",
       "      <td>Partly Cloudy</td>\n",
       "      <td>rain</td>\n",
       "      <td>9.355556</td>\n",
       "      <td>7.227778</td>\n",
       "      <td>0.86</td>\n",
       "      <td>14.2646</td>\n",
       "      <td>259.0</td>\n",
       "      <td>15.8263</td>\n",
       "      <td>1015.63</td>\n",
       "      <td>Partly cloudy throughout the day.</td>\n",
       "      <td>0</td>\n",
       "    </tr>\n",
       "    <tr>\n",
       "      <th>2</th>\n",
       "      <td>Mostly Cloudy</td>\n",
       "      <td>rain</td>\n",
       "      <td>9.377778</td>\n",
       "      <td>9.377778</td>\n",
       "      <td>0.89</td>\n",
       "      <td>3.9284</td>\n",
       "      <td>204.0</td>\n",
       "      <td>14.9569</td>\n",
       "      <td>1015.94</td>\n",
       "      <td>Partly cloudy throughout the day.</td>\n",
       "      <td>0</td>\n",
       "    </tr>\n",
       "    <tr>\n",
       "      <th>3</th>\n",
       "      <td>Partly Cloudy</td>\n",
       "      <td>rain</td>\n",
       "      <td>8.288889</td>\n",
       "      <td>5.944444</td>\n",
       "      <td>0.83</td>\n",
       "      <td>14.1036</td>\n",
       "      <td>269.0</td>\n",
       "      <td>15.8263</td>\n",
       "      <td>1016.41</td>\n",
       "      <td>Partly cloudy throughout the day.</td>\n",
       "      <td>0</td>\n",
       "    </tr>\n",
       "    <tr>\n",
       "      <th>4</th>\n",
       "      <td>Mostly Cloudy</td>\n",
       "      <td>rain</td>\n",
       "      <td>8.755556</td>\n",
       "      <td>6.977778</td>\n",
       "      <td>0.83</td>\n",
       "      <td>11.0446</td>\n",
       "      <td>259.0</td>\n",
       "      <td>15.8263</td>\n",
       "      <td>1016.51</td>\n",
       "      <td>Partly cloudy throughout the day.</td>\n",
       "      <td>0</td>\n",
       "    </tr>\n",
       "    <tr>\n",
       "      <th>5</th>\n",
       "      <td>Partly Cloudy</td>\n",
       "      <td>rain</td>\n",
       "      <td>9.222222</td>\n",
       "      <td>7.111111</td>\n",
       "      <td>0.85</td>\n",
       "      <td>13.9587</td>\n",
       "      <td>258.0</td>\n",
       "      <td>14.9569</td>\n",
       "      <td>1016.66</td>\n",
       "      <td>Partly cloudy throughout the day.</td>\n",
       "      <td>0</td>\n",
       "    </tr>\n",
       "    <tr>\n",
       "      <th>6</th>\n",
       "      <td>Partly Cloudy</td>\n",
       "      <td>rain</td>\n",
       "      <td>7.733333</td>\n",
       "      <td>5.522222</td>\n",
       "      <td>0.95</td>\n",
       "      <td>12.3648</td>\n",
       "      <td>259.0</td>\n",
       "      <td>9.9820</td>\n",
       "      <td>1016.72</td>\n",
       "      <td>Partly cloudy throughout the day.</td>\n",
       "      <td>0</td>\n",
       "    </tr>\n",
       "    <tr>\n",
       "      <th>7</th>\n",
       "      <td>Partly Cloudy</td>\n",
       "      <td>rain</td>\n",
       "      <td>8.772222</td>\n",
       "      <td>6.527778</td>\n",
       "      <td>0.89</td>\n",
       "      <td>14.1519</td>\n",
       "      <td>260.0</td>\n",
       "      <td>9.9820</td>\n",
       "      <td>1016.84</td>\n",
       "      <td>Partly cloudy throughout the day.</td>\n",
       "      <td>0</td>\n",
       "    </tr>\n",
       "    <tr>\n",
       "      <th>8</th>\n",
       "      <td>Partly Cloudy</td>\n",
       "      <td>rain</td>\n",
       "      <td>10.822222</td>\n",
       "      <td>10.822222</td>\n",
       "      <td>0.82</td>\n",
       "      <td>11.3183</td>\n",
       "      <td>259.0</td>\n",
       "      <td>9.9820</td>\n",
       "      <td>1017.37</td>\n",
       "      <td>Partly cloudy throughout the day.</td>\n",
       "      <td>0</td>\n",
       "    </tr>\n",
       "    <tr>\n",
       "      <th>9</th>\n",
       "      <td>Partly Cloudy</td>\n",
       "      <td>rain</td>\n",
       "      <td>13.772222</td>\n",
       "      <td>13.772222</td>\n",
       "      <td>0.72</td>\n",
       "      <td>12.5258</td>\n",
       "      <td>279.0</td>\n",
       "      <td>9.9820</td>\n",
       "      <td>1017.22</td>\n",
       "      <td>Partly cloudy throughout the day.</td>\n",
       "      <td>0</td>\n",
       "    </tr>\n",
       "    <tr>\n",
       "      <th>10</th>\n",
       "      <td>Partly Cloudy</td>\n",
       "      <td>rain</td>\n",
       "      <td>16.016667</td>\n",
       "      <td>16.016667</td>\n",
       "      <td>0.67</td>\n",
       "      <td>17.5651</td>\n",
       "      <td>290.0</td>\n",
       "      <td>11.2056</td>\n",
       "      <td>1017.42</td>\n",
       "      <td>Partly cloudy throughout the day.</td>\n",
       "      <td>0</td>\n",
       "    </tr>\n",
       "    <tr>\n",
       "      <th>11</th>\n",
       "      <td>Partly Cloudy</td>\n",
       "      <td>rain</td>\n",
       "      <td>17.144444</td>\n",
       "      <td>17.144444</td>\n",
       "      <td>0.54</td>\n",
       "      <td>19.7869</td>\n",
       "      <td>316.0</td>\n",
       "      <td>11.4471</td>\n",
       "      <td>1017.74</td>\n",
       "      <td>Partly cloudy throughout the day.</td>\n",
       "      <td>0</td>\n",
       "    </tr>\n",
       "    <tr>\n",
       "      <th>12</th>\n",
       "      <td>Partly Cloudy</td>\n",
       "      <td>rain</td>\n",
       "      <td>17.800000</td>\n",
       "      <td>17.800000</td>\n",
       "      <td>0.55</td>\n",
       "      <td>21.9443</td>\n",
       "      <td>281.0</td>\n",
       "      <td>11.2700</td>\n",
       "      <td>1017.59</td>\n",
       "      <td>Partly cloudy throughout the day.</td>\n",
       "      <td>0</td>\n",
       "    </tr>\n",
       "    <tr>\n",
       "      <th>13</th>\n",
       "      <td>Partly Cloudy</td>\n",
       "      <td>rain</td>\n",
       "      <td>17.333333</td>\n",
       "      <td>17.333333</td>\n",
       "      <td>0.51</td>\n",
       "      <td>20.6885</td>\n",
       "      <td>289.0</td>\n",
       "      <td>11.2700</td>\n",
       "      <td>1017.48</td>\n",
       "      <td>Partly cloudy throughout the day.</td>\n",
       "      <td>0</td>\n",
       "    </tr>\n",
       "    <tr>\n",
       "      <th>14</th>\n",
       "      <td>Partly Cloudy</td>\n",
       "      <td>rain</td>\n",
       "      <td>18.877778</td>\n",
       "      <td>18.877778</td>\n",
       "      <td>0.47</td>\n",
       "      <td>15.3755</td>\n",
       "      <td>262.0</td>\n",
       "      <td>11.4471</td>\n",
       "      <td>1017.17</td>\n",
       "      <td>Partly cloudy throughout the day.</td>\n",
       "      <td>0</td>\n",
       "    </tr>\n",
       "    <tr>\n",
       "      <th>15</th>\n",
       "      <td>Partly Cloudy</td>\n",
       "      <td>rain</td>\n",
       "      <td>18.911111</td>\n",
       "      <td>18.911111</td>\n",
       "      <td>0.46</td>\n",
       "      <td>10.4006</td>\n",
       "      <td>288.0</td>\n",
       "      <td>11.2700</td>\n",
       "      <td>1016.47</td>\n",
       "      <td>Partly cloudy throughout the day.</td>\n",
       "      <td>0</td>\n",
       "    </tr>\n",
       "    <tr>\n",
       "      <th>16</th>\n",
       "      <td>Partly Cloudy</td>\n",
       "      <td>rain</td>\n",
       "      <td>15.388889</td>\n",
       "      <td>15.388889</td>\n",
       "      <td>0.60</td>\n",
       "      <td>14.4095</td>\n",
       "      <td>251.0</td>\n",
       "      <td>11.2700</td>\n",
       "      <td>1016.15</td>\n",
       "      <td>Partly cloudy throughout the day.</td>\n",
       "      <td>0</td>\n",
       "    </tr>\n",
       "    <tr>\n",
       "      <th>17</th>\n",
       "      <td>Mostly Cloudy</td>\n",
       "      <td>rain</td>\n",
       "      <td>15.550000</td>\n",
       "      <td>15.550000</td>\n",
       "      <td>0.63</td>\n",
       "      <td>11.1573</td>\n",
       "      <td>230.0</td>\n",
       "      <td>11.4471</td>\n",
       "      <td>1016.17</td>\n",
       "      <td>Partly cloudy throughout the day.</td>\n",
       "      <td>0</td>\n",
       "    </tr>\n",
       "    <tr>\n",
       "      <th>18</th>\n",
       "      <td>Mostly Cloudy</td>\n",
       "      <td>rain</td>\n",
       "      <td>14.255556</td>\n",
       "      <td>14.255556</td>\n",
       "      <td>0.69</td>\n",
       "      <td>8.5169</td>\n",
       "      <td>163.0</td>\n",
       "      <td>11.2056</td>\n",
       "      <td>1015.82</td>\n",
       "      <td>Partly cloudy throughout the day.</td>\n",
       "      <td>0</td>\n",
       "    </tr>\n",
       "    <tr>\n",
       "      <th>19</th>\n",
       "      <td>Mostly Cloudy</td>\n",
       "      <td>rain</td>\n",
       "      <td>13.144444</td>\n",
       "      <td>13.144444</td>\n",
       "      <td>0.70</td>\n",
       "      <td>7.6314</td>\n",
       "      <td>139.0</td>\n",
       "      <td>11.2056</td>\n",
       "      <td>1015.83</td>\n",
       "      <td>Partly cloudy throughout the day.</td>\n",
       "      <td>0</td>\n",
       "    </tr>\n",
       "    <tr>\n",
       "      <th>20</th>\n",
       "      <td>Mostly Cloudy</td>\n",
       "      <td>rain</td>\n",
       "      <td>11.550000</td>\n",
       "      <td>11.550000</td>\n",
       "      <td>0.77</td>\n",
       "      <td>7.3899</td>\n",
       "      <td>147.0</td>\n",
       "      <td>11.0285</td>\n",
       "      <td>1015.85</td>\n",
       "      <td>Partly cloudy throughout the day.</td>\n",
       "      <td>0</td>\n",
       "    </tr>\n",
       "    <tr>\n",
       "      <th>21</th>\n",
       "      <td>Mostly Cloudy</td>\n",
       "      <td>rain</td>\n",
       "      <td>11.183333</td>\n",
       "      <td>11.183333</td>\n",
       "      <td>0.76</td>\n",
       "      <td>4.9266</td>\n",
       "      <td>160.0</td>\n",
       "      <td>9.9820</td>\n",
       "      <td>1015.77</td>\n",
       "      <td>Partly cloudy throughout the day.</td>\n",
       "      <td>0</td>\n",
       "    </tr>\n",
       "    <tr>\n",
       "      <th>22</th>\n",
       "      <td>Partly Cloudy</td>\n",
       "      <td>rain</td>\n",
       "      <td>10.116667</td>\n",
       "      <td>10.116667</td>\n",
       "      <td>0.79</td>\n",
       "      <td>6.6493</td>\n",
       "      <td>163.0</td>\n",
       "      <td>15.8263</td>\n",
       "      <td>1015.40</td>\n",
       "      <td>Partly cloudy throughout the day.</td>\n",
       "      <td>0</td>\n",
       "    </tr>\n",
       "    <tr>\n",
       "      <th>23</th>\n",
       "      <td>Mostly Cloudy</td>\n",
       "      <td>rain</td>\n",
       "      <td>10.200000</td>\n",
       "      <td>10.200000</td>\n",
       "      <td>0.77</td>\n",
       "      <td>3.9284</td>\n",
       "      <td>152.0</td>\n",
       "      <td>14.9569</td>\n",
       "      <td>1015.51</td>\n",
       "      <td>Partly cloudy throughout the day.</td>\n",
       "      <td>0</td>\n",
       "    </tr>\n",
       "    <tr>\n",
       "      <th>24</th>\n",
       "      <td>Partly Cloudy</td>\n",
       "      <td>rain</td>\n",
       "      <td>10.422222</td>\n",
       "      <td>10.422222</td>\n",
       "      <td>0.62</td>\n",
       "      <td>16.9855</td>\n",
       "      <td>150.0</td>\n",
       "      <td>15.8263</td>\n",
       "      <td>1014.40</td>\n",
       "      <td>Mostly cloudy throughout the day.</td>\n",
       "      <td>0</td>\n",
       "    </tr>\n",
       "    <tr>\n",
       "      <th>25</th>\n",
       "      <td>Partly Cloudy</td>\n",
       "      <td>rain</td>\n",
       "      <td>9.911111</td>\n",
       "      <td>7.566667</td>\n",
       "      <td>0.66</td>\n",
       "      <td>17.2109</td>\n",
       "      <td>149.0</td>\n",
       "      <td>15.8263</td>\n",
       "      <td>1014.20</td>\n",
       "      <td>Mostly cloudy throughout the day.</td>\n",
       "      <td>0</td>\n",
       "    </tr>\n",
       "    <tr>\n",
       "      <th>26</th>\n",
       "      <td>Mostly Cloudy</td>\n",
       "      <td>rain</td>\n",
       "      <td>11.183333</td>\n",
       "      <td>11.183333</td>\n",
       "      <td>0.80</td>\n",
       "      <td>10.8192</td>\n",
       "      <td>163.0</td>\n",
       "      <td>14.9569</td>\n",
       "      <td>1008.71</td>\n",
       "      <td>Mostly cloudy throughout the day.</td>\n",
       "      <td>0</td>\n",
       "    </tr>\n",
       "    <tr>\n",
       "      <th>27</th>\n",
       "      <td>Partly Cloudy</td>\n",
       "      <td>rain</td>\n",
       "      <td>7.155556</td>\n",
       "      <td>5.044444</td>\n",
       "      <td>0.79</td>\n",
       "      <td>11.0768</td>\n",
       "      <td>180.0</td>\n",
       "      <td>15.8263</td>\n",
       "      <td>1014.47</td>\n",
       "      <td>Mostly cloudy throughout the day.</td>\n",
       "      <td>0</td>\n",
       "    </tr>\n",
       "    <tr>\n",
       "      <th>28</th>\n",
       "      <td>Partly Cloudy</td>\n",
       "      <td>rain</td>\n",
       "      <td>6.111111</td>\n",
       "      <td>4.816667</td>\n",
       "      <td>0.82</td>\n",
       "      <td>6.6493</td>\n",
       "      <td>161.0</td>\n",
       "      <td>15.8263</td>\n",
       "      <td>1014.45</td>\n",
       "      <td>Mostly cloudy throughout the day.</td>\n",
       "      <td>0</td>\n",
       "    </tr>\n",
       "    <tr>\n",
       "      <th>29</th>\n",
       "      <td>Partly Cloudy</td>\n",
       "      <td>rain</td>\n",
       "      <td>6.788889</td>\n",
       "      <td>4.272222</td>\n",
       "      <td>0.83</td>\n",
       "      <td>13.0088</td>\n",
       "      <td>135.0</td>\n",
       "      <td>14.9569</td>\n",
       "      <td>1014.49</td>\n",
       "      <td>Mostly cloudy throughout the day.</td>\n",
       "      <td>0</td>\n",
       "    </tr>\n",
       "    <tr>\n",
       "      <th>30</th>\n",
       "      <td>Mostly Cloudy</td>\n",
       "      <td>rain</td>\n",
       "      <td>7.261111</td>\n",
       "      <td>5.155556</td>\n",
       "      <td>0.85</td>\n",
       "      <td>11.1734</td>\n",
       "      <td>141.0</td>\n",
       "      <td>6.1985</td>\n",
       "      <td>1014.52</td>\n",
       "      <td>Mostly cloudy throughout the day.</td>\n",
       "      <td>0</td>\n",
       "    </tr>\n",
       "    <tr>\n",
       "      <th>31</th>\n",
       "      <td>Mostly Cloudy</td>\n",
       "      <td>rain</td>\n",
       "      <td>7.800000</td>\n",
       "      <td>5.527778</td>\n",
       "      <td>0.83</td>\n",
       "      <td>12.8156</td>\n",
       "      <td>150.0</td>\n",
       "      <td>8.0500</td>\n",
       "      <td>1014.16</td>\n",
       "      <td>Mostly cloudy throughout the day.</td>\n",
       "      <td>0</td>\n",
       "    </tr>\n",
       "    <tr>\n",
       "      <th>32</th>\n",
       "      <td>Mostly Cloudy</td>\n",
       "      <td>rain</td>\n",
       "      <td>9.872222</td>\n",
       "      <td>7.933333</td>\n",
       "      <td>0.78</td>\n",
       "      <td>13.7494</td>\n",
       "      <td>160.0</td>\n",
       "      <td>9.9820</td>\n",
       "      <td>1014.24</td>\n",
       "      <td>Mostly cloudy throughout the day.</td>\n",
       "      <td>0</td>\n",
       "    </tr>\n",
       "    <tr>\n",
       "      <th>33</th>\n",
       "      <td>Mostly Cloudy</td>\n",
       "      <td>rain</td>\n",
       "      <td>12.222222</td>\n",
       "      <td>12.222222</td>\n",
       "      <td>0.72</td>\n",
       "      <td>15.6331</td>\n",
       "      <td>150.0</td>\n",
       "      <td>9.9820</td>\n",
       "      <td>1014.25</td>\n",
       "      <td>Mostly cloudy throughout the day.</td>\n",
       "      <td>0</td>\n",
       "    </tr>\n",
       "    <tr>\n",
       "      <th>34</th>\n",
       "      <td>Mostly Cloudy</td>\n",
       "      <td>rain</td>\n",
       "      <td>15.094444</td>\n",
       "      <td>15.094444</td>\n",
       "      <td>0.61</td>\n",
       "      <td>17.5490</td>\n",
       "      <td>151.0</td>\n",
       "      <td>9.9820</td>\n",
       "      <td>1013.96</td>\n",
       "      <td>Mostly cloudy throughout the day.</td>\n",
       "      <td>0</td>\n",
       "    </tr>\n",
       "  </tbody>\n",
       "</table>\n",
       "</div>"
      ],
      "text/plain": [
       "          Summary Precip Type  Temperature (C)  Apparent Temperature (C)  \\\n",
       "0   Partly Cloudy        rain         9.472222                  7.388889   \n",
       "1   Partly Cloudy        rain         9.355556                  7.227778   \n",
       "2   Mostly Cloudy        rain         9.377778                  9.377778   \n",
       "3   Partly Cloudy        rain         8.288889                  5.944444   \n",
       "4   Mostly Cloudy        rain         8.755556                  6.977778   \n",
       "5   Partly Cloudy        rain         9.222222                  7.111111   \n",
       "6   Partly Cloudy        rain         7.733333                  5.522222   \n",
       "7   Partly Cloudy        rain         8.772222                  6.527778   \n",
       "8   Partly Cloudy        rain        10.822222                 10.822222   \n",
       "9   Partly Cloudy        rain        13.772222                 13.772222   \n",
       "10  Partly Cloudy        rain        16.016667                 16.016667   \n",
       "11  Partly Cloudy        rain        17.144444                 17.144444   \n",
       "12  Partly Cloudy        rain        17.800000                 17.800000   \n",
       "13  Partly Cloudy        rain        17.333333                 17.333333   \n",
       "14  Partly Cloudy        rain        18.877778                 18.877778   \n",
       "15  Partly Cloudy        rain        18.911111                 18.911111   \n",
       "16  Partly Cloudy        rain        15.388889                 15.388889   \n",
       "17  Mostly Cloudy        rain        15.550000                 15.550000   \n",
       "18  Mostly Cloudy        rain        14.255556                 14.255556   \n",
       "19  Mostly Cloudy        rain        13.144444                 13.144444   \n",
       "20  Mostly Cloudy        rain        11.550000                 11.550000   \n",
       "21  Mostly Cloudy        rain        11.183333                 11.183333   \n",
       "22  Partly Cloudy        rain        10.116667                 10.116667   \n",
       "23  Mostly Cloudy        rain        10.200000                 10.200000   \n",
       "24  Partly Cloudy        rain        10.422222                 10.422222   \n",
       "25  Partly Cloudy        rain         9.911111                  7.566667   \n",
       "26  Mostly Cloudy        rain        11.183333                 11.183333   \n",
       "27  Partly Cloudy        rain         7.155556                  5.044444   \n",
       "28  Partly Cloudy        rain         6.111111                  4.816667   \n",
       "29  Partly Cloudy        rain         6.788889                  4.272222   \n",
       "30  Mostly Cloudy        rain         7.261111                  5.155556   \n",
       "31  Mostly Cloudy        rain         7.800000                  5.527778   \n",
       "32  Mostly Cloudy        rain         9.872222                  7.933333   \n",
       "33  Mostly Cloudy        rain        12.222222                 12.222222   \n",
       "34  Mostly Cloudy        rain        15.094444                 15.094444   \n",
       "\n",
       "    Humidity  Wind Speed (km/h)  Wind Bearing (degrees)  Visibility (km)  \\\n",
       "0       0.89            14.1197                   251.0          15.8263   \n",
       "1       0.86            14.2646                   259.0          15.8263   \n",
       "2       0.89             3.9284                   204.0          14.9569   \n",
       "3       0.83            14.1036                   269.0          15.8263   \n",
       "4       0.83            11.0446                   259.0          15.8263   \n",
       "5       0.85            13.9587                   258.0          14.9569   \n",
       "6       0.95            12.3648                   259.0           9.9820   \n",
       "7       0.89            14.1519                   260.0           9.9820   \n",
       "8       0.82            11.3183                   259.0           9.9820   \n",
       "9       0.72            12.5258                   279.0           9.9820   \n",
       "10      0.67            17.5651                   290.0          11.2056   \n",
       "11      0.54            19.7869                   316.0          11.4471   \n",
       "12      0.55            21.9443                   281.0          11.2700   \n",
       "13      0.51            20.6885                   289.0          11.2700   \n",
       "14      0.47            15.3755                   262.0          11.4471   \n",
       "15      0.46            10.4006                   288.0          11.2700   \n",
       "16      0.60            14.4095                   251.0          11.2700   \n",
       "17      0.63            11.1573                   230.0          11.4471   \n",
       "18      0.69             8.5169                   163.0          11.2056   \n",
       "19      0.70             7.6314                   139.0          11.2056   \n",
       "20      0.77             7.3899                   147.0          11.0285   \n",
       "21      0.76             4.9266                   160.0           9.9820   \n",
       "22      0.79             6.6493                   163.0          15.8263   \n",
       "23      0.77             3.9284                   152.0          14.9569   \n",
       "24      0.62            16.9855                   150.0          15.8263   \n",
       "25      0.66            17.2109                   149.0          15.8263   \n",
       "26      0.80            10.8192                   163.0          14.9569   \n",
       "27      0.79            11.0768                   180.0          15.8263   \n",
       "28      0.82             6.6493                   161.0          15.8263   \n",
       "29      0.83            13.0088                   135.0          14.9569   \n",
       "30      0.85            11.1734                   141.0           6.1985   \n",
       "31      0.83            12.8156                   150.0           8.0500   \n",
       "32      0.78            13.7494                   160.0           9.9820   \n",
       "33      0.72            15.6331                   150.0           9.9820   \n",
       "34      0.61            17.5490                   151.0           9.9820   \n",
       "\n",
       "    Pressure (millibars)                      Daily Summary  Outliers  \n",
       "0                1015.13  Partly cloudy throughout the day.         0  \n",
       "1                1015.63  Partly cloudy throughout the day.         0  \n",
       "2                1015.94  Partly cloudy throughout the day.         0  \n",
       "3                1016.41  Partly cloudy throughout the day.         0  \n",
       "4                1016.51  Partly cloudy throughout the day.         0  \n",
       "5                1016.66  Partly cloudy throughout the day.         0  \n",
       "6                1016.72  Partly cloudy throughout the day.         0  \n",
       "7                1016.84  Partly cloudy throughout the day.         0  \n",
       "8                1017.37  Partly cloudy throughout the day.         0  \n",
       "9                1017.22  Partly cloudy throughout the day.         0  \n",
       "10               1017.42  Partly cloudy throughout the day.         0  \n",
       "11               1017.74  Partly cloudy throughout the day.         0  \n",
       "12               1017.59  Partly cloudy throughout the day.         0  \n",
       "13               1017.48  Partly cloudy throughout the day.         0  \n",
       "14               1017.17  Partly cloudy throughout the day.         0  \n",
       "15               1016.47  Partly cloudy throughout the day.         0  \n",
       "16               1016.15  Partly cloudy throughout the day.         0  \n",
       "17               1016.17  Partly cloudy throughout the day.         0  \n",
       "18               1015.82  Partly cloudy throughout the day.         0  \n",
       "19               1015.83  Partly cloudy throughout the day.         0  \n",
       "20               1015.85  Partly cloudy throughout the day.         0  \n",
       "21               1015.77  Partly cloudy throughout the day.         0  \n",
       "22               1015.40  Partly cloudy throughout the day.         0  \n",
       "23               1015.51  Partly cloudy throughout the day.         0  \n",
       "24               1014.40  Mostly cloudy throughout the day.         0  \n",
       "25               1014.20  Mostly cloudy throughout the day.         0  \n",
       "26               1008.71  Mostly cloudy throughout the day.         0  \n",
       "27               1014.47  Mostly cloudy throughout the day.         0  \n",
       "28               1014.45  Mostly cloudy throughout the day.         0  \n",
       "29               1014.49  Mostly cloudy throughout the day.         0  \n",
       "30               1014.52  Mostly cloudy throughout the day.         0  \n",
       "31               1014.16  Mostly cloudy throughout the day.         0  \n",
       "32               1014.24  Mostly cloudy throughout the day.         0  \n",
       "33               1014.25  Mostly cloudy throughout the day.         0  \n",
       "34               1013.96  Mostly cloudy throughout the day.         0  "
      ]
     },
     "execution_count": 161,
     "metadata": {},
     "output_type": "execute_result"
    }
   ],
   "source": [
    "df_new['Outliers']=0\n",
    "df_new['Outliers']=np.where(df_new['Temperature (C)']>q3+1.5*inter_qr,1,df_new['Outliers'])\n",
    "df_new['Outliers']=np.where(df_new['Temperature (C)']<q1-1.5*inter_qr,1,df_new['Outliers'])\n",
    "df_new.head(35)"
   ]
  },
  {
   "cell_type": "markdown",
   "id": "a4d4872f",
   "metadata": {},
   "source": [
    "Removing Row whose Outliers value is 1 "
   ]
  },
  {
   "cell_type": "code",
   "execution_count": 162,
   "id": "88befcf1",
   "metadata": {},
   "outputs": [
    {
     "data": {
      "text/plain": [
       "(96409, 11)"
      ]
     },
     "execution_count": 162,
     "metadata": {},
     "output_type": "execute_result"
    }
   ],
   "source": [
    "dfclean=df_new[df_new['Outliers']==0]\n",
    "dfclean.shape"
   ]
  },
  {
   "cell_type": "code",
   "execution_count": 163,
   "id": "1432cc36",
   "metadata": {},
   "outputs": [
    {
     "data": {
      "text/plain": [
       "(96453, 11)"
      ]
     },
     "execution_count": 163,
     "metadata": {},
     "output_type": "execute_result"
    }
   ],
   "source": [
    "df_new.shape"
   ]
  },
  {
   "cell_type": "code",
   "execution_count": 164,
   "id": "1fe1c912",
   "metadata": {},
   "outputs": [],
   "source": [
    "x=dfclean['Temperature (C)']\n",
    "y=dfclean['Apparent Temperature (C)']"
   ]
  },
  {
   "cell_type": "code",
   "execution_count": 173,
   "id": "614a31f3",
   "metadata": {},
   "outputs": [
    {
     "data": {
      "text/plain": [
       "(96409, 1)"
      ]
     },
     "execution_count": 173,
     "metadata": {},
     "output_type": "execute_result"
    }
   ],
   "source": [
    "x=x.reshape(-1,1)\n",
    "x.shape"
   ]
  },
  {
   "cell_type": "code",
   "execution_count": 175,
   "id": "f8cd2eb8",
   "metadata": {},
   "outputs": [
    {
     "data": {
      "text/plain": [
       "(96409, 1)"
      ]
     },
     "execution_count": 175,
     "metadata": {},
     "output_type": "execute_result"
    }
   ],
   "source": [
    "y=y.reshape(-1,1)\n",
    "y.shape"
   ]
  },
  {
   "cell_type": "markdown",
   "id": "6e4b9cba",
   "metadata": {},
   "source": [
    "### Splitting our Dataset"
   ]
  },
  {
   "cell_type": "code",
   "execution_count": 177,
   "id": "30a01869",
   "metadata": {},
   "outputs": [],
   "source": [
    "xtrain,xtest,ytrain,ytest=train_test_split(x,y,test_size=0.2,random_state=0)"
   ]
  },
  {
   "cell_type": "code",
   "execution_count": 178,
   "id": "3a4bfc9f",
   "metadata": {},
   "outputs": [
    {
     "name": "stdout",
     "output_type": "stream",
     "text": [
      "(77127, 1)\n",
      "(19282, 1)\n",
      "(19282, 1)\n",
      "(77127, 1)\n"
     ]
    }
   ],
   "source": [
    "print(xtrain.shape)\n",
    "print(xtest.shape)\n",
    "print(ytest.shape)\n",
    "print(ytrain.shape)"
   ]
  },
  {
   "cell_type": "markdown",
   "id": "13d2c84b",
   "metadata": {},
   "source": [
    "### Applying Linear Regression"
   ]
  },
  {
   "cell_type": "code",
   "execution_count": 179,
   "id": "f6ecb4e0",
   "metadata": {},
   "outputs": [],
   "source": [
    "from sklearn.linear_model import LinearRegression"
   ]
  },
  {
   "cell_type": "code",
   "execution_count": 180,
   "id": "1b954600",
   "metadata": {},
   "outputs": [],
   "source": [
    "lr=LinearRegression()"
   ]
  },
  {
   "cell_type": "code",
   "execution_count": 181,
   "id": "a4d3ef67",
   "metadata": {},
   "outputs": [
    {
     "data": {
      "text/plain": [
       "LinearRegression()"
      ]
     },
     "execution_count": 181,
     "metadata": {},
     "output_type": "execute_result"
    }
   ],
   "source": [
    "lr.fit(xtrain,ytrain)"
   ]
  },
  {
   "cell_type": "code",
   "execution_count": 182,
   "id": "8c16923a",
   "metadata": {},
   "outputs": [],
   "source": [
    "ypred=lr.predict(xtest)"
   ]
  },
  {
   "cell_type": "code",
   "execution_count": 193,
   "id": "6a78fb79",
   "metadata": {},
   "outputs": [
    {
     "data": {
      "text/plain": [
       "(19282, 1)"
      ]
     },
     "execution_count": 193,
     "metadata": {},
     "output_type": "execute_result"
    }
   ],
   "source": [
    "ypred.shape"
   ]
  },
  {
   "cell_type": "code",
   "execution_count": 199,
   "id": "ed17dfa4",
   "metadata": {},
   "outputs": [
    {
     "data": {
      "text/html": [
       "<div>\n",
       "<style scoped>\n",
       "    .dataframe tbody tr th:only-of-type {\n",
       "        vertical-align: middle;\n",
       "    }\n",
       "\n",
       "    .dataframe tbody tr th {\n",
       "        vertical-align: top;\n",
       "    }\n",
       "\n",
       "    .dataframe thead th {\n",
       "        text-align: right;\n",
       "    }\n",
       "</style>\n",
       "<table border=\"1\" class=\"dataframe\">\n",
       "  <thead>\n",
       "    <tr style=\"text-align: right;\">\n",
       "      <th></th>\n",
       "      <th>x Test</th>\n",
       "      <th>y Test</th>\n",
       "      <th>y Predicted</th>\n",
       "    </tr>\n",
       "  </thead>\n",
       "  <tbody>\n",
       "    <tr>\n",
       "      <th>0</th>\n",
       "      <td>7.194444</td>\n",
       "      <td>3.372222</td>\n",
       "      <td>5.584814</td>\n",
       "    </tr>\n",
       "    <tr>\n",
       "      <th>1</th>\n",
       "      <td>3.661111</td>\n",
       "      <td>0.905556</td>\n",
       "      <td>1.655569</td>\n",
       "    </tr>\n",
       "    <tr>\n",
       "      <th>2</th>\n",
       "      <td>8.605556</td>\n",
       "      <td>6.738889</td>\n",
       "      <td>7.154041</td>\n",
       "    </tr>\n",
       "    <tr>\n",
       "      <th>3</th>\n",
       "      <td>10.038889</td>\n",
       "      <td>10.038889</td>\n",
       "      <td>8.747980</td>\n",
       "    </tr>\n",
       "    <tr>\n",
       "      <th>4</th>\n",
       "      <td>5.116667</td>\n",
       "      <td>2.677778</td>\n",
       "      <td>3.274220</td>\n",
       "    </tr>\n",
       "    <tr>\n",
       "      <th>...</th>\n",
       "      <td>...</td>\n",
       "      <td>...</td>\n",
       "      <td>...</td>\n",
       "    </tr>\n",
       "    <tr>\n",
       "      <th>19277</th>\n",
       "      <td>2.844444</td>\n",
       "      <td>-0.244444</td>\n",
       "      <td>0.747394</td>\n",
       "    </tr>\n",
       "    <tr>\n",
       "      <th>19278</th>\n",
       "      <td>8.450000</td>\n",
       "      <td>6.594444</td>\n",
       "      <td>6.981056</td>\n",
       "    </tr>\n",
       "    <tr>\n",
       "      <th>19279</th>\n",
       "      <td>-0.027778</td>\n",
       "      <td>-4.138889</td>\n",
       "      <td>-2.446662</td>\n",
       "    </tr>\n",
       "    <tr>\n",
       "      <th>19280</th>\n",
       "      <td>16.061111</td>\n",
       "      <td>16.061111</td>\n",
       "      <td>15.444996</td>\n",
       "    </tr>\n",
       "    <tr>\n",
       "      <th>19281</th>\n",
       "      <td>17.038889</td>\n",
       "      <td>17.038889</td>\n",
       "      <td>16.532334</td>\n",
       "    </tr>\n",
       "  </tbody>\n",
       "</table>\n",
       "<p>19282 rows × 3 columns</p>\n",
       "</div>"
      ],
      "text/plain": [
       "          x Test     y Test  y Predicted\n",
       "0       7.194444   3.372222     5.584814\n",
       "1       3.661111   0.905556     1.655569\n",
       "2       8.605556   6.738889     7.154041\n",
       "3      10.038889  10.038889     8.747980\n",
       "4       5.116667   2.677778     3.274220\n",
       "...          ...        ...          ...\n",
       "19277   2.844444  -0.244444     0.747394\n",
       "19278   8.450000   6.594444     6.981056\n",
       "19279  -0.027778  -4.138889    -2.446662\n",
       "19280  16.061111  16.061111    15.444996\n",
       "19281  17.038889  17.038889    16.532334\n",
       "\n",
       "[19282 rows x 3 columns]"
      ]
     },
     "execution_count": 199,
     "metadata": {},
     "output_type": "execute_result"
    }
   ],
   "source": [
    "pd.DataFrame({'x Test':xtest.reshape(19282,),'y Test':ytest.reshape(19282,),'y Predicted':ypred.reshape(19282,)})"
   ]
  },
  {
   "cell_type": "code",
   "execution_count": 203,
   "id": "a945a379",
   "metadata": {},
   "outputs": [
    {
     "data": {
      "image/png": "[encoded data removed]",
      "text/plain": [
       "<Figure size 640x480 with 1 Axes>"
      ]
     },
     "metadata": {},
     "output_type": "display_data"
    }
   ],
   "source": [
    "plt.scatter(xtest,ytest,color='blue')\n",
    "plt.plot(xtest,ypred,color='red')\n",
    "plt.show()"
   ]
  },
  {
   "cell_type": "markdown",
   "id": "cf0bc9b9",
   "metadata": {},
   "source": [
    "### Applying Performance Metrics"
   ]
  },
  {
   "cell_type": "code",
   "execution_count": 204,
   "id": "45598949",
   "metadata": {},
   "outputs": [],
   "source": [
    "from sklearn.metrics import mean_squared_error,mean_absolute_error"
   ]
  },
  {
   "cell_type": "code",
   "execution_count": 205,
   "id": "f847b84a",
   "metadata": {},
   "outputs": [
    {
     "data": {
      "text/plain": [
       "0.9930812572855974"
      ]
     },
     "execution_count": 205,
     "metadata": {},
     "output_type": "execute_result"
    }
   ],
   "source": [
    "mean_absolute_error(ytest,ypred)"
   ]
  },
  {
   "cell_type": "code",
   "execution_count": 206,
   "id": "455f39bd",
   "metadata": {},
   "outputs": [
    {
     "data": {
      "text/plain": [
       "1.6850196928746723"
      ]
     },
     "execution_count": 206,
     "metadata": {},
     "output_type": "execute_result"
    }
   ],
   "source": [
    "mean_squared_error(ytest,ypred)"
   ]
  },
  {
   "cell_type": "markdown",
   "id": "5ce4ff8c",
   "metadata": {},
   "source": [
    "### Comparing both performance metrics"
   ]
  },
  {
   "cell_type": "code",
   "execution_count": 218,
   "id": "f4a828bb",
   "metadata": {},
   "outputs": [
    {
     "data": {
      "text/plain": [
       "False"
      ]
     },
     "execution_count": 218,
     "metadata": {},
     "output_type": "execute_result"
    }
   ],
   "source": [
    "mean_absolute_error(ytest,ypred)==mean_absolute_error(y_test,y_pred) "
   ]
  },
  {
   "cell_type": "code",
   "execution_count": 219,
   "id": "68d5a9e5",
   "metadata": {},
   "outputs": [
    {
     "data": {
      "text/plain": [
       "0.00153406085475849"
      ]
     },
     "execution_count": 219,
     "metadata": {},
     "output_type": "execute_result"
    }
   ],
   "source": [
    "mean_absolute_error(y_test,y_pred)-mean_absolute_error(ytest,ypred) # The diffrence is almost negligible"
   ]
  },
  {
   "cell_type": "code",
   "execution_count": 220,
   "id": "643f8d4e",
   "metadata": {},
   "outputs": [
    {
     "data": {
      "text/plain": [
       "False"
      ]
     },
     "execution_count": 220,
     "metadata": {},
     "output_type": "execute_result"
    }
   ],
   "source": [
    "mean_squared_error(ytest,ypred)==mean_squared_error(y_test,y_pred) "
   ]
  },
  {
   "cell_type": "code",
   "execution_count": 221,
   "id": "3244d78a",
   "metadata": {},
   "outputs": [
    {
     "data": {
      "text/plain": [
       "0.0029467602663049153"
      ]
     },
     "execution_count": 221,
     "metadata": {},
     "output_type": "execute_result"
    }
   ],
   "source": [
    "mean_squared_error(ytest,ypred)-mean_squared_error(y_test,y_pred) # The diffrence is almost negligible"
   ]
  },
  {
   "cell_type": "markdown",
   "id": "e1ced0ee",
   "metadata": {},
   "source": [
    "### After creating model and Comparing the performance metrics of both the model I came to conclusion that we can use any of the model as the Performance metrics of both of the models are same.\n",
    "### I think this is because the numbers of outlier rows removed is almost negligible compared to the total rows in the dataset."
   ]
  },
  {
   "cell_type": "code",
   "execution_count": null,
   "id": "a0230656",
   "metadata": {},
   "outputs": [],
   "source": []
  }
 ],
 "metadata": {
  "kernelspec": {
   "display_name": "Python 3",
   "language": "python",
   "name": "python3"
  },
  "language_info": {
   "codemirror_mode": {
    "name": "ipython",
    "version": 3
   },
   "file_extension": ".py",
   "mimetype": "text/x-python",
   "name": "python",
   "nbconvert_exporter": "python",
   "pygments_lexer": "ipython3",
   "version": "3.8.11"
  }
 },
 "nbformat": 4,
 "nbformat_minor": 5
}
